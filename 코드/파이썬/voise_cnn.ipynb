{
 "cells": [
  {
   "cell_type": "code",
   "execution_count": 1,
   "metadata": {
    "collapsed": true
   },
   "outputs": [],
   "source": [
    "import numpy as np\n",
    "import tensorflow as tf"
   ]
  },
  {
   "cell_type": "code",
   "execution_count": 2,
   "metadata": {
    "collapsed": false
   },
   "outputs": [],
   "source": [
    "data_train = np.load('C:/Users/User/PycharmProjects/AIproject2/인프데이터/data_train.npy')\n",
    "labels_train = np.load('C:/Users/User/PycharmProjects/AIproject2/인프데이터/labels_train.npy')\n",
    "data_test = np.load('C:/Users/User/PycharmProjects/AIproject2/인프데이터/data_test.npy')\n",
    "labels_test = np.load('C:/Users/User/PycharmProjects/AIproject2/인프데이터/labels_test.npy')"
   ]
  },
  {
   "cell_type": "code",
   "execution_count": 3,
   "metadata": {
    "collapsed": false
   },
   "outputs": [
    {
     "data": {
      "text/plain": [
       "(1440, 30, 129)"
      ]
     },
     "execution_count": 3,
     "metadata": {},
     "output_type": "execute_result"
    }
   ],
   "source": [
    "np.shape(data_train)"
   ]
  },
  {
   "cell_type": "code",
   "execution_count": 4,
   "metadata": {
    "collapsed": true
   },
   "outputs": [],
   "source": [
    "data_train_num = np.shape(data_train)[0]"
   ]
  },
  {
   "cell_type": "code",
   "execution_count": 15,
   "metadata": {
    "collapsed": true
   },
   "outputs": [],
   "source": [
    "tf.reset_default_graph()"
   ]
  },
  {
   "cell_type": "code",
   "execution_count": 16,
   "metadata": {
    "collapsed": false
   },
   "outputs": [],
   "source": [
    "global_step = tf.Variable(0, trainable=False, name='global_step')"
   ]
  },
  {
   "cell_type": "code",
   "execution_count": 14,
   "metadata": {
    "collapsed": false
   },
   "outputs": [
    {
     "ename": "ValueError",
     "evalue": "Variable W1 already exists, disallowed. Did you mean to set reuse=True or reuse=tf.AUTO_REUSE in VarScope? Originally defined at:\n\n  File \"C:\\Users\\User\\Anaconda3\\lib\\site-packages\\tensorflow\\python\\framework\\ops.py\", line 1717, in __init__\n    self._traceback = tf_stack.extract_stack()\n  File \"C:\\Users\\User\\Anaconda3\\lib\\site-packages\\tensorflow\\python\\framework\\ops.py\", line 3155, in create_op\n    op_def=op_def)\n  File \"C:\\Users\\User\\Anaconda3\\lib\\site-packages\\tensorflow\\python\\util\\deprecation.py\", line 454, in new_func\n    return func(*args, **kwargs)\n",
     "output_type": "error",
     "traceback": [
      "\u001b[0;31m---------------------------------------------------------------------------\u001b[0m",
      "\u001b[0;31mValueError\u001b[0m                                Traceback (most recent call last)",
      "\u001b[0;32m<ipython-input-14-e7c994f47ab4>\u001b[0m in \u001b[0;36m<module>\u001b[0;34m()\u001b[0m\n\u001b[1;32m      3\u001b[0m \u001b[0mkeep_prob\u001b[0m\u001b[1;33m=\u001b[0m\u001b[0mtf\u001b[0m\u001b[1;33m.\u001b[0m\u001b[0mplaceholder\u001b[0m\u001b[1;33m(\u001b[0m\u001b[0mtf\u001b[0m\u001b[1;33m.\u001b[0m\u001b[0mfloat32\u001b[0m\u001b[1;33m)\u001b[0m\u001b[1;33m\u001b[0m\u001b[0m\n\u001b[1;32m      4\u001b[0m \u001b[1;33m\u001b[0m\u001b[0m\n\u001b[0;32m----> 5\u001b[0;31m \u001b[0mW1\u001b[0m \u001b[1;33m=\u001b[0m \u001b[0mtf\u001b[0m\u001b[1;33m.\u001b[0m\u001b[0mget_variable\u001b[0m\u001b[1;33m(\u001b[0m\u001b[1;34m'W1'\u001b[0m\u001b[1;33m,\u001b[0m \u001b[0mshape\u001b[0m\u001b[1;33m=\u001b[0m\u001b[1;33m[\u001b[0m\u001b[1;36m3\u001b[0m\u001b[1;33m,\u001b[0m\u001b[1;36m3\u001b[0m\u001b[1;33m,\u001b[0m\u001b[1;36m1\u001b[0m\u001b[1;33m,\u001b[0m\u001b[1;36m32\u001b[0m\u001b[1;33m]\u001b[0m\u001b[1;33m,\u001b[0m \u001b[0minitializer\u001b[0m\u001b[1;33m=\u001b[0m\u001b[0mtf\u001b[0m\u001b[1;33m.\u001b[0m\u001b[0mcontrib\u001b[0m\u001b[1;33m.\u001b[0m\u001b[0mlayers\u001b[0m\u001b[1;33m.\u001b[0m\u001b[0mxavier_initializer\u001b[0m\u001b[1;33m(\u001b[0m\u001b[1;33m)\u001b[0m\u001b[1;33m)\u001b[0m\u001b[1;33m\u001b[0m\u001b[0m\n\u001b[0m\u001b[1;32m      6\u001b[0m \u001b[0mL1\u001b[0m \u001b[1;33m=\u001b[0m \u001b[0mtf\u001b[0m\u001b[1;33m.\u001b[0m\u001b[0mnn\u001b[0m\u001b[1;33m.\u001b[0m\u001b[0mconv2d\u001b[0m\u001b[1;33m(\u001b[0m\u001b[0mX\u001b[0m\u001b[1;33m,\u001b[0m \u001b[0mW1\u001b[0m\u001b[1;33m,\u001b[0m \u001b[0mstrides\u001b[0m\u001b[1;33m=\u001b[0m\u001b[1;33m[\u001b[0m\u001b[1;36m1\u001b[0m\u001b[1;33m,\u001b[0m\u001b[1;36m1\u001b[0m\u001b[1;33m,\u001b[0m\u001b[1;36m1\u001b[0m\u001b[1;33m,\u001b[0m\u001b[1;36m1\u001b[0m\u001b[1;33m]\u001b[0m\u001b[1;33m,\u001b[0m \u001b[0mpadding\u001b[0m\u001b[1;33m=\u001b[0m\u001b[1;34m'SAME'\u001b[0m\u001b[1;33m)\u001b[0m\u001b[1;33m\u001b[0m\u001b[0m\n\u001b[1;32m      7\u001b[0m \u001b[0mL1\u001b[0m \u001b[1;33m=\u001b[0m \u001b[0mtf\u001b[0m\u001b[1;33m.\u001b[0m\u001b[0mnn\u001b[0m\u001b[1;33m.\u001b[0m\u001b[0mrelu\u001b[0m\u001b[1;33m(\u001b[0m\u001b[0mL1\u001b[0m\u001b[1;33m)\u001b[0m\u001b[1;33m\u001b[0m\u001b[0m\n",
      "\u001b[0;32mC:\\Users\\User\\Anaconda3\\lib\\site-packages\\tensorflow\\python\\ops\\variable_scope.py\u001b[0m in \u001b[0;36mget_variable\u001b[0;34m(name, shape, dtype, initializer, regularizer, trainable, collections, caching_device, partitioner, validate_shape, use_resource, custom_getter, constraint, synchronization, aggregation)\u001b[0m\n\u001b[1;32m   1465\u001b[0m       \u001b[0mconstraint\u001b[0m\u001b[1;33m=\u001b[0m\u001b[0mconstraint\u001b[0m\u001b[1;33m,\u001b[0m\u001b[1;33m\u001b[0m\u001b[0m\n\u001b[1;32m   1466\u001b[0m       \u001b[0msynchronization\u001b[0m\u001b[1;33m=\u001b[0m\u001b[0msynchronization\u001b[0m\u001b[1;33m,\u001b[0m\u001b[1;33m\u001b[0m\u001b[0m\n\u001b[0;32m-> 1467\u001b[0;31m       aggregation=aggregation)\n\u001b[0m\u001b[1;32m   1468\u001b[0m \u001b[1;33m\u001b[0m\u001b[0m\n\u001b[1;32m   1469\u001b[0m \u001b[1;33m\u001b[0m\u001b[0m\n",
      "\u001b[0;32mC:\\Users\\User\\Anaconda3\\lib\\site-packages\\tensorflow\\python\\ops\\variable_scope.py\u001b[0m in \u001b[0;36mget_variable\u001b[0;34m(self, var_store, name, shape, dtype, initializer, regularizer, reuse, trainable, collections, caching_device, partitioner, validate_shape, use_resource, custom_getter, constraint, synchronization, aggregation)\u001b[0m\n\u001b[1;32m   1215\u001b[0m           \u001b[0mconstraint\u001b[0m\u001b[1;33m=\u001b[0m\u001b[0mconstraint\u001b[0m\u001b[1;33m,\u001b[0m\u001b[1;33m\u001b[0m\u001b[0m\n\u001b[1;32m   1216\u001b[0m           \u001b[0msynchronization\u001b[0m\u001b[1;33m=\u001b[0m\u001b[0msynchronization\u001b[0m\u001b[1;33m,\u001b[0m\u001b[1;33m\u001b[0m\u001b[0m\n\u001b[0;32m-> 1217\u001b[0;31m           aggregation=aggregation)\n\u001b[0m\u001b[1;32m   1218\u001b[0m \u001b[1;33m\u001b[0m\u001b[0m\n\u001b[1;32m   1219\u001b[0m   def _get_partitioned_variable(self,\n",
      "\u001b[0;32mC:\\Users\\User\\Anaconda3\\lib\\site-packages\\tensorflow\\python\\ops\\variable_scope.py\u001b[0m in \u001b[0;36mget_variable\u001b[0;34m(self, name, shape, dtype, initializer, regularizer, reuse, trainable, collections, caching_device, partitioner, validate_shape, use_resource, custom_getter, constraint, synchronization, aggregation)\u001b[0m\n\u001b[1;32m    525\u001b[0m           \u001b[0mconstraint\u001b[0m\u001b[1;33m=\u001b[0m\u001b[0mconstraint\u001b[0m\u001b[1;33m,\u001b[0m\u001b[1;33m\u001b[0m\u001b[0m\n\u001b[1;32m    526\u001b[0m           \u001b[0msynchronization\u001b[0m\u001b[1;33m=\u001b[0m\u001b[0msynchronization\u001b[0m\u001b[1;33m,\u001b[0m\u001b[1;33m\u001b[0m\u001b[0m\n\u001b[0;32m--> 527\u001b[0;31m           aggregation=aggregation)\n\u001b[0m\u001b[1;32m    528\u001b[0m \u001b[1;33m\u001b[0m\u001b[0m\n\u001b[1;32m    529\u001b[0m   def _get_partitioned_variable(self,\n",
      "\u001b[0;32mC:\\Users\\User\\Anaconda3\\lib\\site-packages\\tensorflow\\python\\ops\\variable_scope.py\u001b[0m in \u001b[0;36m_true_getter\u001b[0;34m(name, shape, dtype, initializer, regularizer, reuse, trainable, collections, caching_device, partitioner, validate_shape, use_resource, constraint, synchronization, aggregation)\u001b[0m\n\u001b[1;32m    479\u001b[0m           \u001b[0mconstraint\u001b[0m\u001b[1;33m=\u001b[0m\u001b[0mconstraint\u001b[0m\u001b[1;33m,\u001b[0m\u001b[1;33m\u001b[0m\u001b[0m\n\u001b[1;32m    480\u001b[0m           \u001b[0msynchronization\u001b[0m\u001b[1;33m=\u001b[0m\u001b[0msynchronization\u001b[0m\u001b[1;33m,\u001b[0m\u001b[1;33m\u001b[0m\u001b[0m\n\u001b[0;32m--> 481\u001b[0;31m           aggregation=aggregation)\n\u001b[0m\u001b[1;32m    482\u001b[0m \u001b[1;33m\u001b[0m\u001b[0m\n\u001b[1;32m    483\u001b[0m     \u001b[1;31m# Set trainable value based on synchronization value.\u001b[0m\u001b[1;33m\u001b[0m\u001b[1;33m\u001b[0m\u001b[0m\n",
      "\u001b[0;32mC:\\Users\\User\\Anaconda3\\lib\\site-packages\\tensorflow\\python\\ops\\variable_scope.py\u001b[0m in \u001b[0;36m_get_single_variable\u001b[0;34m(self, name, shape, dtype, initializer, regularizer, partition_info, reuse, trainable, collections, caching_device, validate_shape, use_resource, constraint, synchronization, aggregation)\u001b[0m\n\u001b[1;32m    846\u001b[0m                          \u001b[1;34m\"reuse=tf.AUTO_REUSE in VarScope? \"\u001b[0m\u001b[1;33m\u001b[0m\u001b[0m\n\u001b[1;32m    847\u001b[0m                          \"Originally defined at:\\n\\n%s\" % (\n\u001b[0;32m--> 848\u001b[0;31m                              name, \"\".join(traceback.format_list(tb))))\n\u001b[0m\u001b[1;32m    849\u001b[0m       \u001b[0mfound_var\u001b[0m \u001b[1;33m=\u001b[0m \u001b[0mself\u001b[0m\u001b[1;33m.\u001b[0m\u001b[0m_vars\u001b[0m\u001b[1;33m[\u001b[0m\u001b[0mname\u001b[0m\u001b[1;33m]\u001b[0m\u001b[1;33m\u001b[0m\u001b[0m\n\u001b[1;32m    850\u001b[0m       \u001b[1;32mif\u001b[0m \u001b[1;32mnot\u001b[0m \u001b[0mshape\u001b[0m\u001b[1;33m.\u001b[0m\u001b[0mis_compatible_with\u001b[0m\u001b[1;33m(\u001b[0m\u001b[0mfound_var\u001b[0m\u001b[1;33m.\u001b[0m\u001b[0mget_shape\u001b[0m\u001b[1;33m(\u001b[0m\u001b[1;33m)\u001b[0m\u001b[1;33m)\u001b[0m\u001b[1;33m:\u001b[0m\u001b[1;33m\u001b[0m\u001b[0m\n",
      "\u001b[0;31mValueError\u001b[0m: Variable W1 already exists, disallowed. Did you mean to set reuse=True or reuse=tf.AUTO_REUSE in VarScope? Originally defined at:\n\n  File \"C:\\Users\\User\\Anaconda3\\lib\\site-packages\\tensorflow\\python\\framework\\ops.py\", line 1717, in __init__\n    self._traceback = tf_stack.extract_stack()\n  File \"C:\\Users\\User\\Anaconda3\\lib\\site-packages\\tensorflow\\python\\framework\\ops.py\", line 3155, in create_op\n    op_def=op_def)\n  File \"C:\\Users\\User\\Anaconda3\\lib\\site-packages\\tensorflow\\python\\util\\deprecation.py\", line 454, in new_func\n    return func(*args, **kwargs)\n"
     ]
    }
   ],
   "source": [
    "X = tf.placeholder(tf.float32, [None, 30, 129, 1])\n",
    "Y = tf.placeholder(tf.float32, [None, 6])\n",
    "keep_prob=tf.placeholder(tf.float32)\n",
    "\n",
    "W1 = tf.get_variable('W1', shape=[3,3,1,32], initializer=tf.contrib.layers.xavier_initializer())\n",
    "L1 = tf.nn.conv2d(X, W1, strides=[1,1,1,1], padding='SAME')\n",
    "L1 = tf.nn.relu(L1)\n",
    "L1 = tf.nn.max_pool(L1, ksize=[1,2,2,1], strides=[1,2,2,1], padding='SAME')\n",
    "\n",
    "W2 = tf.get_variable('W2', shape=[3,3,32,64], initializer=tf.contrib.layers.xavier_initializer())\n",
    "L2 = tf.nn.conv2d(L1, W2, strides=[1,1,1,1], padding='SAME')\n",
    "L2 = tf.nn.relu(L2)\n",
    "L2 = tf.nn.max_pool(L2, ksize=[1,2,2,1], strides=[1,2,2,1], padding='SAME')\n",
    "\n",
    "W3 = tf.get_variable('W3', shape=[7*7*64,256], initializer=tf.contrib.layers.xavier_initializer())\n",
    "L3 = tf.reshape(L2, [-1,7*7*64])\n",
    "L3 = tf.matmul(L3,W3)\n",
    "L3 = tf.nn.relu(L3)\n",
    "L3 = tf.nn.dropout(L3,keep_prob)\n",
    "\n",
    "W4 = tf.get_variable('W4', shape=[256,6], initializer=tf.contrib.layers.xavier_initializer())\n",
    "model = tf.matmul(L3,W4)\n",
    "\n",
    "cost = tf.reduce_mean(tf.nn.softmax_cross_entropy_with_logits_v2(logits=model, labels=Y))\n",
    "optimizer = tf.train.AdamOptimizer(0.001).minimize(cost, global_step=global_step)"
   ]
  },
  {
   "cell_type": "code",
   "execution_count": 17,
   "metadata": {
    "collapsed": true
   },
   "outputs": [],
   "source": [
    "X = tf.placeholder(tf.float32, [None, 30, 129, 1])\n",
    "Y = tf.placeholder(tf.float32, [None, 6])\n",
    "is_training = tf.placeholder(tf.bool)\n",
    "\n",
    "L1 = tf.layers.conv2d(X, 32, [3, 3], activation=tf.nn.relu)\n",
    "L1 = tf.layers.max_pooling2d(L1, [2, 2], [2, 2])\n",
    "L1 = tf.layers.dropout(L1, 0.7, is_training)\n",
    "\n",
    "L2 = tf.layers.conv2d(X, 64, [3, 3], activation=tf.nn.relu)\n",
    "L2 = tf.layers.max_pooling2d(L2, [2, 2], [2, 2])\n",
    "L2 = tf.layers.dropout(L2, 0.7, is_training)\n",
    "\n",
    "L3 = tf.contrib.layers.flatten(L2)\n",
    "L3 = tf.layers.dense(L3, 200, activation=tf.nn.relu)\n",
    "L3 = tf.layers.dropout(L3, 0.5, is_training)\n",
    "\n",
    "model = tf.layers.dense(L3, 6, activation=None)\n",
    "\n",
    "cost = tf.reduce_mean(tf.nn.softmax_cross_entropy_with_logits_v2(logits=model, labels=Y))\n",
    "optimizer = tf.train.AdamOptimizer(0.001).minimize(cost, global_step=global_step)"
   ]
  },
  {
   "cell_type": "code",
   "execution_count": 18,
   "metadata": {
    "collapsed": false
   },
   "outputs": [
    {
     "name": "stdout",
     "output_type": "stream",
     "text": [
      "Epoch: 0001 Avg. cost = 967.040780\n",
      "Epoch: 0002 Avg. cost = 155.219363\n",
      "Epoch: 0003 Avg. cost = 37.769378\n",
      "Epoch: 0004 Avg. cost = 12.254823\n",
      "Epoch: 0005 Avg. cost = 6.080712\n",
      "Epoch: 0006 Avg. cost = 2.227051\n",
      "Epoch: 0007 Avg. cost = 1.024510\n",
      "Epoch: 0008 Avg. cost = 0.823066\n",
      "Epoch: 0009 Avg. cost = 0.323245\n",
      "Epoch: 0010 Avg. cost = 0.320254\n",
      "Epoch: 0011 Avg. cost = 0.246587\n",
      "Epoch: 0012 Avg. cost = 0.224707\n",
      "Epoch: 0013 Avg. cost = 0.211338\n",
      "Epoch: 0014 Avg. cost = 0.180740\n",
      "Epoch: 0015 Avg. cost = 0.176203\n",
      "Epoch: 0016 Avg. cost = 0.152861\n",
      "Epoch: 0017 Avg. cost = 0.142357\n",
      "Epoch: 0018 Avg. cost = 0.127260\n",
      "Epoch: 0019 Avg. cost = 0.117834\n",
      "Epoch: 0020 Avg. cost = 0.106300\n",
      "Epoch: 0021 Avg. cost = 0.100059\n",
      "Epoch: 0022 Avg. cost = 0.114727\n",
      "Epoch: 0023 Avg. cost = 0.090281\n",
      "Epoch: 0024 Avg. cost = 0.080057\n",
      "Epoch: 0025 Avg. cost = 0.144538\n",
      "Epoch: 0026 Avg. cost = 0.105412\n",
      "Epoch: 0027 Avg. cost = 0.116381\n",
      "Epoch: 0028 Avg. cost = 0.103028\n",
      "Epoch: 0029 Avg. cost = 0.117373\n",
      "Epoch: 0030 Avg. cost = 0.085552\n",
      "Epoch: 0031 Avg. cost = 0.076710\n",
      "Epoch: 0032 Avg. cost = 0.055546\n",
      "Epoch: 0033 Avg. cost = 0.061790\n",
      "Epoch: 0034 Avg. cost = 0.044929\n",
      "Epoch: 0035 Avg. cost = 0.042257\n",
      "Epoch: 0036 Avg. cost = 0.034586\n",
      "Epoch: 0037 Avg. cost = 0.035015\n",
      "Epoch: 0038 Avg. cost = 0.030542\n",
      "Epoch: 0039 Avg. cost = 0.026969\n",
      "Epoch: 0040 Avg. cost = 0.027250\n",
      "Epoch: 0041 Avg. cost = 0.020240\n",
      "Epoch: 0042 Avg. cost = 0.022164\n",
      "Epoch: 0043 Avg. cost = 0.021417\n",
      "Epoch: 0044 Avg. cost = 0.015583\n",
      "Epoch: 0045 Avg. cost = 0.018810\n",
      "Epoch: 0046 Avg. cost = 0.013168\n",
      "Epoch: 0047 Avg. cost = 0.015139\n",
      "Epoch: 0048 Avg. cost = 0.013138\n",
      "Epoch: 0049 Avg. cost = 0.012555\n",
      "Epoch: 0050 Avg. cost = 0.011954\n",
      "Epoch: 0051 Avg. cost = 0.010722\n",
      "Epoch: 0052 Avg. cost = 0.008799\n",
      "Epoch: 0053 Avg. cost = 0.009485\n",
      "Epoch: 0054 Avg. cost = 0.007739\n",
      "Epoch: 0055 Avg. cost = 0.007982\n",
      "Epoch: 0056 Avg. cost = 0.007213\n",
      "Epoch: 0057 Avg. cost = 0.006920\n",
      "Epoch: 0058 Avg. cost = 0.005628\n",
      "Epoch: 0059 Avg. cost = 0.005492\n",
      "Epoch: 0060 Avg. cost = 0.004898\n",
      "Epoch: 0061 Avg. cost = 0.004052\n",
      "Epoch: 0062 Avg. cost = 0.004274\n",
      "Epoch: 0063 Avg. cost = 0.003459\n",
      "Epoch: 0064 Avg. cost = 0.003940\n",
      "Epoch: 0065 Avg. cost = 0.003206\n",
      "Epoch: 0066 Avg. cost = 0.003335\n",
      "Epoch: 0067 Avg. cost = 0.002915\n",
      "Epoch: 0068 Avg. cost = 0.002505\n",
      "Epoch: 0069 Avg. cost = 0.002759\n",
      "Epoch: 0070 Avg. cost = 0.002471\n",
      "Epoch: 0071 Avg. cost = 0.002097\n",
      "Epoch: 0072 Avg. cost = 0.002230\n",
      "Epoch: 0073 Avg. cost = 0.001789\n",
      "Epoch: 0074 Avg. cost = 0.002129\n",
      "Epoch: 0075 Avg. cost = 0.001492\n",
      "Epoch: 0076 Avg. cost = 0.002087\n",
      "Epoch: 0077 Avg. cost = 0.001350\n",
      "Epoch: 0078 Avg. cost = 0.002045\n",
      "Epoch: 0079 Avg. cost = 0.001242\n",
      "Epoch: 0080 Avg. cost = 0.001628\n",
      "Epoch: 0081 Avg. cost = 0.001112\n",
      "Epoch: 0082 Avg. cost = 0.001050\n",
      "Epoch: 0083 Avg. cost = 0.001022\n",
      "Epoch: 0084 Avg. cost = 0.000855\n",
      "Epoch: 0085 Avg. cost = 0.000843\n",
      "Epoch: 0086 Avg. cost = 0.000779\n",
      "Epoch: 0087 Avg. cost = 0.000698\n",
      "Epoch: 0088 Avg. cost = 0.000711\n",
      "Epoch: 0089 Avg. cost = 0.000610\n",
      "Epoch: 0090 Avg. cost = 0.000634\n",
      "Epoch: 0091 Avg. cost = 0.000549\n",
      "Epoch: 0092 Avg. cost = 0.000559\n",
      "Epoch: 0093 Avg. cost = 0.000494\n",
      "Epoch: 0094 Avg. cost = 0.000495\n",
      "Epoch: 0095 Avg. cost = 0.000439\n",
      "Epoch: 0096 Avg. cost = 0.000436\n",
      "Epoch: 0097 Avg. cost = 0.000392\n",
      "Epoch: 0098 Avg. cost = 0.000388\n",
      "Epoch: 0099 Avg. cost = 0.000353\n",
      "Epoch: 0100 Avg. cost = 0.000346\n",
      "최적화 완료\n"
     ]
    },
    {
     "data": {
      "text/plain": [
       "'C:/Users/User/PycharmProjects/AIproject2/model/voice.ckpt-1200'"
      ]
     },
     "execution_count": 18,
     "metadata": {},
     "output_type": "execute_result"
    }
   ],
   "source": [
    "init = tf.global_variables_initializer()\n",
    "sess = tf.Session()\n",
    "saver = tf.train.Saver(tf.global_variables())\n",
    "\n",
    "ckpt = tf.train.get_checkpoint_state('C:/Users/User/PycharmProjects/AIproject2/model')\n",
    "\n",
    "if ckpt and tf.train.checkpoint_exists(ckpt.model_checkpoint_path):\n",
    "    saver.restore(sess, ckpt.model_checkpoint_path)\n",
    "else:\n",
    "    sess.run(init)\n",
    "\n",
    "batch_size = 120\n",
    "total_batch = int(data_train_num/batch_size)\n",
    "\n",
    "for epoch in range(100):\n",
    "    total_cost = 0\n",
    "    for i in range(total_batch):\n",
    "        batch_xs, batch_ys= data_train[i*batch_size:i*batch_size+batch_size], labels_train[i*batch_size:i*batch_size+batch_size]\n",
    "        batch_xs = batch_xs.reshape(-1, 30, 129, 1)\n",
    "        _,cost_val = sess.run([optimizer, cost],\n",
    "                             feed_dict={X: batch_xs,\n",
    "                                        Y: batch_ys})\n",
    "        total_cost += cost_val\n",
    "    print('Epoch:', '%04d' % (epoch + 1), 'Avg. cost =', '{:4f}'.format(total_cost / total_batch))\n",
    "    \n",
    "print('최적화 완료')\n",
    "saver.save(sess, 'C:/Users/User/PycharmProjects/AIproject2/model/voice.ckpt', global_step=global_step)"
   ]
  },
  {
   "cell_type": "code",
   "execution_count": 19,
   "metadata": {
    "collapsed": false
   },
   "outputs": [
    {
     "name": "stdout",
     "output_type": "stream",
     "text": [
      "정확도:  0.833333\n",
      "예측값:  [0 1 2 3 2 5]\n",
      "실제값:  [0 1 2 3 4 5]\n"
     ]
    }
   ],
   "source": [
    "is_correct = tf.equal(tf.argmax(model, 1), tf.argmax(Y, 1))\n",
    "accuracy = tf.reduce_mean(tf.cast(is_correct, tf.float32))\n",
    "print('정확도: ', sess.run(accuracy, feed_dict={X: data_test.reshape(-1, 30, 129, 1),\n",
    "                                                Y: labels_test,\n",
    "                                                is_training: False}))\n",
    "prediction = tf.argmax(model,1)\n",
    "target = tf.argmax(Y, 1)\n",
    "print('예측값: ', sess.run(prediction, feed_dict={X: data_test.reshape(-1, 30, 129, 1),\n",
    "                                                  Y: labels_test,\n",
    "                                                  is_training: False}))\n",
    "print('실제값: ', sess.run(target, feed_dict={X: data_test.reshape(-1, 30, 129, 1),\n",
    "                                                  Y: labels_test,\n",
    "                                                  is_training: False}))"
   ]
  },
  {
   "cell_type": "code",
   "execution_count": 21,
   "metadata": {
    "collapsed": true
   },
   "outputs": [],
   "source": [
    "sess.close()"
   ]
  },
  {
   "cell_type": "code",
   "execution_count": null,
   "metadata": {
    "collapsed": true
   },
   "outputs": [],
   "source": []
  }
 ],
 "metadata": {
  "anaconda-cloud": {},
  "kernelspec": {
   "display_name": "Python [conda root]",
   "language": "python",
   "name": "conda-root-py"
  },
  "language_info": {
   "codemirror_mode": {
    "name": "ipython",
    "version": 3
   },
   "file_extension": ".py",
   "mimetype": "text/x-python",
   "name": "python",
   "nbconvert_exporter": "python",
   "pygments_lexer": "ipython3",
   "version": "3.5.2"
  }
 },
 "nbformat": 4,
 "nbformat_minor": 2
}
